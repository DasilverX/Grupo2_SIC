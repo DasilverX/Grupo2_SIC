{
 "cells": [
  {
   "cell_type": "code",
   "execution_count": null,
   "metadata": {
    "id": "hDyC6RPHiRO7"
   },
   "outputs": [],
   "source": [
    "pip install SpeechRecognition"
   ]
  },
  {
   "cell_type": "code",
   "execution_count": null,
   "metadata": {
    "id": "OmxPM1eqiZvj"
   },
   "outputs": [],
   "source": [
    "pip install pyttsx3"
   ]
  },
  {
   "cell_type": "code",
   "execution_count": null,
   "metadata": {},
   "outputs": [],
   "source": [
    "pip install pyaudio"
   ]
  },
  {
   "cell_type": "code",
   "execution_count": null,
   "metadata": {
    "id": "3hBf-rCwiZ-f"
   },
   "outputs": [],
   "source": [
    "pip install pywhatkit"
   ]
  },
  {
   "cell_type": "code",
   "execution_count": null,
   "metadata": {
    "id": "CQSgpTROil3z"
   },
   "outputs": [],
   "source": [
    "pip install wikipedia"
   ]
  },
  {
   "cell_type": "code",
   "execution_count": 1,
   "metadata": {
    "id": "UfcIZ_aximlL"
   },
   "outputs": [
    {
     "ename": "UnboundLocalError",
     "evalue": "cannot access local variable 'command' where it is not associated with a value",
     "output_type": "error",
     "traceback": [
      "\u001b[1;31m---------------------------------------------------------------------------\u001b[0m",
      "\u001b[1;31mUnboundLocalError\u001b[0m                         Traceback (most recent call last)",
      "Cell \u001b[1;32mIn[1], line 56\u001b[0m\n\u001b[0;32m     52\u001b[0m         talk(\u001b[39m'\u001b[39m\u001b[39mBuscando en google para ti\u001b[39m\u001b[39m'\u001b[39m)\n\u001b[0;32m     53\u001b[0m         pywhatkit\u001b[39m.\u001b[39msearch(command)\n\u001b[1;32m---> 56\u001b[0m run_alexa()\n",
      "Cell \u001b[1;32mIn[1], line 32\u001b[0m, in \u001b[0;36mrun_alexa\u001b[1;34m()\u001b[0m\n\u001b[0;32m     31\u001b[0m \u001b[39mdef\u001b[39;00m \u001b[39mrun_alexa\u001b[39m():\n\u001b[1;32m---> 32\u001b[0m     command \u001b[39m=\u001b[39m take_command()\n\u001b[0;32m     33\u001b[0m     \u001b[39mprint\u001b[39m (command)         \n\u001b[0;32m     35\u001b[0m     \u001b[39mif\u001b[39;00m (\u001b[39m'\u001b[39m\u001b[39mhora\u001b[39m\u001b[39m'\u001b[39m \u001b[39min\u001b[39;00m command) \u001b[39mor\u001b[39;00m (\u001b[39m'\u001b[39m\u001b[39mtiempo\u001b[39m\u001b[39m'\u001b[39m \u001b[39min\u001b[39;00m command):\n",
      "Cell \u001b[1;32mIn[1], line 29\u001b[0m, in \u001b[0;36mtake_command\u001b[1;34m()\u001b[0m\n\u001b[0;32m     27\u001b[0m \u001b[39mexcept\u001b[39;00m:   \n\u001b[0;32m     28\u001b[0m     \u001b[39mpass\u001b[39;00m\n\u001b[1;32m---> 29\u001b[0m \u001b[39mreturn\u001b[39;00m command\n",
      "\u001b[1;31mUnboundLocalError\u001b[0m: cannot access local variable 'command' where it is not associated with a value"
     ]
    }
   ],
   "source": [
    "import speech_recognition as sr\n",
    "import pyttsx3\n",
    "import datetime\n",
    "import pywhatkit\n",
    "import wikipedia\n",
    "listener = sr.Recognizer()\n",
    "asis = pyttsx3.init()\n",
    "wikipedia.set_lang(\"es\")\n",
    "voices = asis.getProperty('voices')\n",
    "asis.setProperty('voice', voices[0].id)\n",
    "\n",
    "def talk(text):\n",
    "    asis.say(text)\n",
    "    asis.runAndWait()\n",
    "\n",
    "def take_command():\n",
    "    \n",
    "    try:\n",
    "        with sr.Microphone() as source:\n",
    "            print('Hola, te estoy escuchando')\n",
    "            voice = listener.listen(source)\n",
    "            command = listener.recognize_google(voice,language=\"es\")\n",
    "            command = command.lower()\n",
    "            \n",
    "            if 'alexa' in command:\n",
    "                command = command.replace('alexa', '')\n",
    "    except:   \n",
    "        pass\n",
    "    return command\n",
    "\n",
    "def run_alexa():\n",
    "    command = take_command()\n",
    "    print (command)         \n",
    "           \n",
    "    if ('hora' in command) or ('tiempo' in command):\n",
    "        time = datetime.datetime.now().strftime('%I:%M %p')\n",
    "        print('la hora es ' + time)\n",
    "        talk('la hora es ' + time) \n",
    "        \n",
    "    elif 'dime' in command:\n",
    "        wiki = command.replace('dime', '')\n",
    "        info = wikipedia.summary(wiki, 2)\n",
    "        print(info)\n",
    "        talk(info) \n",
    "        \n",
    "    elif 'reproduce' in command:\n",
    "        song = command.replace('reproduce', '')\n",
    "        talk('reproduciendo ' + song)\n",
    "        pywhatkit.playonyt(song)\n",
    "        \n",
    "    else:\n",
    "        talk('Buscando en google para ti')\n",
    "        pywhatkit.search(command)\n",
    "             \n",
    "        \n",
    "run_alexa()"
   ]
  }
 ],
 "metadata": {
  "colab": {
   "authorship_tag": "ABX9TyNJgm+kpNMiICW5W57e/xll",
   "include_colab_link": true,
   "name": "Alexa-virtual assistance",
   "provenance": []
  },
  "kernelspec": {
   "display_name": "Python 3",
   "language": "python",
   "name": "python3"
  },
  "language_info": {
   "codemirror_mode": {
    "name": "ipython",
    "version": 3
   },
   "file_extension": ".py",
   "mimetype": "text/x-python",
   "name": "python",
   "nbconvert_exporter": "python",
   "pygments_lexer": "ipython3",
   "version": "3.11.1"
  },
  "vscode": {
   "interpreter": {
    "hash": "a0bfecd6cd9b93fac5090e811a80d98ddaef44720b6a49d37ac43edd034efd4c"
   }
  }
 },
 "nbformat": 4,
 "nbformat_minor": 1
}
