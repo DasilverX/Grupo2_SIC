{
 "cells": [
  {
   "cell_type": "code",
   "execution_count": 1,
   "metadata": {
    "collapsed": true
   },
   "outputs": [
    {
     "ename": "KeyError",
     "evalue": "'usuario'",
     "output_type": "error",
     "traceback": [
      "\u001B[0;31m---------------------------------------------------------------------------\u001B[0m",
      "\u001B[0;31mKeyError\u001B[0m                                  Traceback (most recent call last)",
      "Cell \u001B[0;32mIn[1], line 80\u001B[0m\n\u001B[1;32m     76\u001B[0m         \u001B[38;5;28mself\u001B[39m\u001B[38;5;241m.\u001B[39minterfaz()\n\u001B[1;32m     79\u001B[0m \u001B[38;5;28;01mif\u001B[39;00m \u001B[38;5;18m__name__\u001B[39m \u001B[38;5;241m==\u001B[39m \u001B[38;5;124m'\u001B[39m\u001B[38;5;124m__main__\u001B[39m\u001B[38;5;124m'\u001B[39m:\n\u001B[0;32m---> 80\u001B[0m     \u001B[43miniciar_ast\u001B[49m\u001B[43m(\u001B[49m\u001B[43m)\u001B[49m\n",
      "Cell \u001B[0;32mIn[1], line 76\u001B[0m, in \u001B[0;36miniciar_ast.__init__\u001B[0;34m(self)\u001B[0m\n\u001B[1;32m     74\u001B[0m \u001B[38;5;28;01mdef\u001B[39;00m \u001B[38;5;21m__init__\u001B[39m(\u001B[38;5;28mself\u001B[39m):\n\u001B[1;32m     75\u001B[0m     \u001B[38;5;28mself\u001B[39m\u001B[38;5;241m.\u001B[39mcargar_user()\n\u001B[0;32m---> 76\u001B[0m     \u001B[38;5;28;43mself\u001B[39;49m\u001B[38;5;241;43m.\u001B[39;49m\u001B[43minterfaz\u001B[49m\u001B[43m(\u001B[49m\u001B[43m)\u001B[49m\n",
      "Cell \u001B[0;32mIn[1], line 60\u001B[0m, in \u001B[0;36musers.interfaz\u001B[0;34m(self)\u001B[0m\n\u001B[1;32m     58\u001B[0m option \u001B[38;5;241m=\u001B[39m \u001B[38;5;28minput\u001B[39m()\n\u001B[1;32m     59\u001B[0m \u001B[38;5;28;01mif\u001B[39;00m option \u001B[38;5;241m==\u001B[39m \u001B[38;5;124m'\u001B[39m\u001B[38;5;124m1\u001B[39m\u001B[38;5;124m'\u001B[39m:\n\u001B[0;32m---> 60\u001B[0m     \u001B[38;5;28;43mself\u001B[39;49m\u001B[38;5;241;43m.\u001B[39;49m\u001B[43mconfigurar_user\u001B[49m\u001B[43m(\u001B[49m\u001B[43m)\u001B[49m\n\u001B[1;32m     61\u001B[0m \u001B[38;5;28;01melif\u001B[39;00m option \u001B[38;5;241m==\u001B[39m \u001B[38;5;124m'\u001B[39m\u001B[38;5;124m2\u001B[39m\u001B[38;5;124m'\u001B[39m:\n\u001B[1;32m     62\u001B[0m     \u001B[38;5;28;01mif\u001B[39;00m data[\u001B[38;5;124m'\u001B[39m\u001B[38;5;124musuario_creados\u001B[39m\u001B[38;5;124m'\u001B[39m] \u001B[38;5;241m==\u001B[39m []:\n",
      "Cell \u001B[0;32mIn[1], line 23\u001B[0m, in \u001B[0;36musers.configurar_user\u001B[0;34m(self)\u001B[0m\n\u001B[1;32m     21\u001B[0m usuario \u001B[38;5;241m=\u001B[39m \u001B[38;5;28minput\u001B[39m(\u001B[38;5;124m\"\u001B[39m\u001B[38;5;124mIngresa tu usuario: \u001B[39m\u001B[38;5;124m\"\u001B[39m)\n\u001B[1;32m     22\u001B[0m password \u001B[38;5;241m=\u001B[39m \u001B[38;5;28minput\u001B[39m(\u001B[38;5;124m\"\u001B[39m\u001B[38;5;124mIngresa tu password\u001B[39m\u001B[38;5;124m\"\u001B[39m)\n\u001B[0;32m---> 23\u001B[0m \u001B[38;5;28;43mself\u001B[39;49m\u001B[38;5;241;43m.\u001B[39;49m\u001B[43mcrear_user\u001B[49m\u001B[43m(\u001B[49m\u001B[43musuario\u001B[49m\u001B[43m,\u001B[49m\u001B[43mpassword\u001B[49m\u001B[43m)\u001B[49m\n",
      "Cell \u001B[0;32mIn[1], line 26\u001B[0m, in \u001B[0;36musers.crear_user\u001B[0;34m(self, usuario, password)\u001B[0m\n\u001B[1;32m     25\u001B[0m \u001B[38;5;28;01mdef\u001B[39;00m \u001B[38;5;21mcrear_user\u001B[39m(\u001B[38;5;28mself\u001B[39m,usuario,password):\n\u001B[0;32m---> 26\u001B[0m     new_user \u001B[38;5;241m=\u001B[39m \u001B[43muser\u001B[49m\u001B[43m[\u001B[49m\u001B[38;5;124;43m'\u001B[39;49m\u001B[38;5;124;43musuario\u001B[39;49m\u001B[38;5;124;43m'\u001B[39;49m\u001B[43m]\u001B[49m\u001B[43m[\u001B[49m\u001B[43musuario\u001B[49m\u001B[43m]\u001B[49m\n\u001B[1;32m     27\u001B[0m     new_password \u001B[38;5;241m=\u001B[39m user[\u001B[38;5;124m'\u001B[39m\u001B[38;5;124mpassword\u001B[39m\u001B[38;5;124m'\u001B[39m][password]\n\u001B[1;32m     28\u001B[0m     nombre \u001B[38;5;241m=\u001B[39m \u001B[38;5;28minput\u001B[39m(\u001B[38;5;124m\"\u001B[39m\u001B[38;5;124mIngresa tu nombre:\u001B[39m\u001B[38;5;124m\"\u001B[39m)\n",
      "\u001B[0;31mKeyError\u001B[0m: 'usuario'"
     ]
    }
   ],
   "source": [
    "import pyttsx3\n",
    "import json\n",
    "import time\n",
    "\n",
    "\n",
    "user = { 'usuario': {},\n",
    "         'password': {}\n",
    "}\n",
    "\n",
    "data = {}\n",
    "data['usuario_creados'] = []\n",
    "engine = pyttsx3.init()\n",
    "rate = engine.getProperty('rate')\n",
    "engine.setProperty('rate', rate-17)\n",
    "\n",
    "class users():\n",
    "    def __init__(self,usuario,password):\n",
    "        self.usuario = usuario\n",
    "        self.password = password\n",
    "    def configurar_user(self):\n",
    "        usuario = input(\"Ingresa tu usuario: \")\n",
    "        password = input(\"Ingresa tu password\")\n",
    "        self.crear_user(usuario,password)\n",
    "\n",
    "    def crear_user(self,usuario,password):\n",
    "        new_user = user['usuario'][usuario]\n",
    "        new_password = user['password'][password]\n",
    "        nombre = input(\"Ingresa tu nombre:\")\n",
    "        nuevo_user = users(nombre=nombre, usuario=usuario,password=password)\n",
    "        datos = {\n",
    "            'Usuario': nuevo_user.usuario,\n",
    "            'Contra': nuevo_user.password\n",
    "        }\n",
    "        self.guardar_user(datos)\n",
    "        engine.say(\"User create correctly...\")\n",
    "\n",
    "    def guardar_user(self,datos):\n",
    "        data['usuario_creados'].append(datos)\n",
    "        urs = data['usuario_creados']\n",
    "        archivo = open('Usuarios.json','w')\n",
    "        json.dump(urs,archivo,indent=4)\n",
    "    def cargar_user(self):\n",
    "        try:\n",
    "            archivo = open('Usuarios.json')\n",
    "            data['usuario_creados'] = json.load(archivo)\n",
    "        except FileNotFoundError:\n",
    "            engine.say(\"Loading users register...\")\n",
    "            time.sleep(1)\n",
    "            archivo = open('Usuarios.json', 'a+')\n",
    "        except json.decoder.JSONDecodeError:\n",
    "            engine.say('I dont have users...')\n",
    "            pass\n",
    "    def interfaz(self):\n",
    "        i = 0\n",
    "        while True:\n",
    "            engine.say(f\"Hi! Welcome to your personal assistant of the group two, what do you want to do? 1.create user 2.login or 3. exit\")\n",
    "            engine.runAndWait()\n",
    "            option = input()\n",
    "            if option == '1':\n",
    "                self.configurar_user()\n",
    "            elif option == '2':\n",
    "                if data['usuario_creados'] == []:\n",
    "                    engine.say(\"I cant find any users, sorry....\")\n",
    "                for users in data['usuario_creados']:\n",
    "                    engine.say(\"Nombre: {}, Usuario: {}, Contra: {}\".format(users['nombre'],users['usuario'],users['password']))\n",
    "            elif option == '3':\n",
    "                engine.say(\"Good Bye user\")\n",
    "                time.sleep(2)\n",
    "                quit()\n",
    "            else:\n",
    "                engine.say(\"Invalid option\")\n",
    "\n",
    "class iniciar_ast(users):\n",
    "    def __init__(self):\n",
    "        self.cargar_user()\n",
    "        self.interfaz()\n",
    "\n",
    "\n",
    "if __name__ == '__main__':\n",
    "    iniciar_ast()\n",
    "\n"
   ]
  },
  {
   "cell_type": "code",
   "execution_count": null,
   "outputs": [],
   "source": [],
   "metadata": {
    "collapsed": false
   }
  }
 ],
 "metadata": {
  "kernelspec": {
   "display_name": "Python 3",
   "language": "python",
   "name": "python3"
  },
  "language_info": {
   "codemirror_mode": {
    "name": "ipython",
    "version": 2
   },
   "file_extension": ".py",
   "mimetype": "text/x-python",
   "name": "python",
   "nbconvert_exporter": "python",
   "pygments_lexer": "ipython2",
   "version": "2.7.6"
  }
 },
 "nbformat": 4,
 "nbformat_minor": 0
}
