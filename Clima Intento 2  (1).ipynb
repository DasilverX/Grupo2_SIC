{
 "cells": [
  {
   "cell_type": "code",
   "execution_count": 3,
   "id": "fe8f0208",
   "metadata": {},
   "outputs": [
    {
     "name": "stdout",
     "output_type": "stream",
     "text": [
      "Algo ha salido mal\n"
     ]
    },
    {
     "ename": "UnboundLocalError",
     "evalue": "local variable 'rec' referenced before assignment",
     "output_type": "error",
     "traceback": [
      "\u001b[1;31m---------------------------------------------------------------------------\u001b[0m",
      "\u001b[1;31mUnboundLocalError\u001b[0m                         Traceback (most recent call last)",
      "Input \u001b[1;32mIn [3]\u001b[0m, in \u001b[0;36m<cell line: 62>\u001b[1;34m()\u001b[0m\n\u001b[0;32m     59\u001b[0m         talk(\u001b[38;5;124mf\u001b[39m\u001b[38;5;124m\"\u001b[39m\u001b[38;5;124mLa temperatura actual es \u001b[39m\u001b[38;5;132;01m{\u001b[39;00mtemp\u001b[38;5;132;01m}\u001b[39;00m\u001b[38;5;124m, pero se siente más como \u001b[39m\u001b[38;5;132;01m{\u001b[39;00mfeels_like\u001b[38;5;132;01m}\u001b[39;00m\u001b[38;5;124m\"\u001b[39m)\n\u001b[0;32m     60\u001b[0m         talk(\u001b[38;5;124mf\u001b[39m\u001b[38;5;124m\"\u001b[39m\u001b[38;5;124mReporte climático: \u001b[39m\u001b[38;5;132;01m{\u001b[39;00mwea\u001b[38;5;132;01m}\u001b[39;00m\u001b[38;5;124m.\u001b[39m\u001b[38;5;124m\"\u001b[39m) \n\u001b[1;32m---> 62\u001b[0m \u001b[43mrun_mike\u001b[49m\u001b[43m(\u001b[49m\u001b[43m)\u001b[49m\n",
      "Input \u001b[1;32mIn [3]\u001b[0m, in \u001b[0;36mrun_mike\u001b[1;34m()\u001b[0m\n\u001b[0;32m     50\u001b[0m \u001b[38;5;28;01mdef\u001b[39;00m \u001b[38;5;21mrun_mike\u001b[39m():\n\u001b[1;32m---> 51\u001b[0m     rec\u001b[38;5;241m=\u001b[39m\u001b[43mlisten\u001b[49m\u001b[43m(\u001b[49m\u001b[43m)\u001b[49m\n\u001b[0;32m     52\u001b[0m     \u001b[38;5;66;03m#print (rec)\u001b[39;00m\n\u001b[0;32m     54\u001b[0m     \u001b[38;5;28;01mif\u001b[39;00m \u001b[38;5;124m\"\u001b[39m\u001b[38;5;124mclima\u001b[39m\u001b[38;5;124m\"\u001b[39m \u001b[38;5;129;01min\u001b[39;00m rec:\n",
      "Input \u001b[1;32mIn [3]\u001b[0m, in \u001b[0;36mlisten\u001b[1;34m()\u001b[0m\n\u001b[0;32m     32\u001b[0m     \u001b[38;5;28mprint\u001b[39m (\u001b[38;5;124m\"\u001b[39m\u001b[38;5;124mAlgo ha salido mal\u001b[39m\u001b[38;5;124m\"\u001b[39m)\n\u001b[0;32m     33\u001b[0m     \u001b[38;5;28;01mpass\u001b[39;00m\n\u001b[1;32m---> 34\u001b[0m \u001b[38;5;28;01mreturn\u001b[39;00m \u001b[43mrec\u001b[49m\n",
      "\u001b[1;31mUnboundLocalError\u001b[0m: local variable 'rec' referenced before assignment"
     ]
    }
   ],
   "source": [
    "#Intento 2 para clima\n",
    "\n",
    "#Importar todas las librerías necesarias\n",
    "import speech_recognition as sr\n",
    "import pyttsx3, pywhatkit\n",
    "import requests\n",
    "\n",
    "\n",
    "#name=\"Grappes\"\n",
    "\n",
    "listener=sr.Recognizer()\n",
    "engine=pyttsx3.init()\n",
    "\n",
    "voices=engine.getProperty(\"voices\")\n",
    "engine.setProperty(\"voice\",voices[0].id)\n",
    "\n",
    "def talk (text):\n",
    "    engine.say(text)\n",
    "    engine.runAndWait()\n",
    "\n",
    "def listen ():\n",
    "    try:\n",
    "        with sr.Microphone() as source:\n",
    "            print (\"Escuchando...\")\n",
    "            voice=listener.listen(source)\n",
    "            rec=listener.recognize_google(voice, language=\"es\")\n",
    "            rec=rec.lower()\n",
    "            \n",
    "           # if name in rec:\n",
    "            #    rec = rec.replace(name, \"\")\n",
    "    except:\n",
    "        print (\"Algo ha salido mal\")\n",
    "        pass\n",
    "    return rec\n",
    "\n",
    "def find_my_ip():\n",
    "    ip = requests.get('https://geo.ipify.org/api/v2/country,city?apiKey=at_ZuFMYogbA6e4P6qCl5qINN5vuEWxC').json()\n",
    "    ip_address=ip[\"ip\"]\n",
    "    location=ip[\"location\"][\"city\"]\n",
    "    return ip_address, location\n",
    "\n",
    "#Función para conseguir el clima según dirección ip\n",
    "def get_weather_report(city):\n",
    "    res = requests.get(f\"http://api.openweathermap.org/data/2.5/weather?q={city}&lang=es&appid=e3453007916c7512aeb9747917270fe3&units=metric\").json()\n",
    "    weather = res[\"weather\"][0][\"description\"]\n",
    "    temperature = res[\"main\"][\"temp\"]\n",
    "    feels_like = res[\"main\"][\"feels_like\"]\n",
    "    return weather, f\"{temperature}℃\", f\"{feels_like}℃\"\n",
    "\n",
    "def run_mike():\n",
    "    rec=listen()\n",
    "    #print (rec)\n",
    "    \n",
    "    if \"clima\" in rec:\n",
    "        ip_address, location=find_my_ip()\n",
    "        talk(f\"Usted se encuentra en: {location}\")\n",
    "        city = requests.get(f\"https://ipapi.co/{ip_address}/city/\").text\n",
    "        wea, temp, feels_like = get_weather_report(city)\n",
    "        talk(f\"La temperatura actual es {temp}, pero se siente más como {feels_like}\")\n",
    "        talk(f\"Reporte climático: {wea}.\") \n",
    "        \n",
    "run_mike()\n",
    "        \n"
   ]
  }
 ],
 "metadata": {
  "kernelspec": {
   "display_name": "Python 3 (ipykernel)",
   "language": "python",
   "name": "python3"
  },
  "language_info": {
   "codemirror_mode": {
    "name": "ipython",
    "version": 3
   },
   "file_extension": ".py",
   "mimetype": "text/x-python",
   "name": "python",
   "nbconvert_exporter": "python",
   "pygments_lexer": "ipython3",
   "version": "3.9.12"
  }
 },
 "nbformat": 4,
 "nbformat_minor": 5
}
