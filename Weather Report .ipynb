{
 "cells": [
  {
   "cell_type": "code",
   "execution_count": 3,
   "id": "c9b75f96",
   "metadata": {},
   "outputs": [
    {
     "name": "stdout",
     "output_type": "stream",
     "text": [
      "Usted se encuentra en: Panamá\n",
      "La temperatura actual es 23.87℃, pero se siente más como 24.51℃\n",
      "Reporte climático: nubes.\n"
     ]
    }
   ],
   "source": [
    "import requests\n",
    "\n",
    "def find_my_ip():\n",
    "    ip = requests.get('https://geo.ipify.org/api/v2/country,city?apiKey=at_ZuFMYogbA6e4P6qCl5qINN5vuEWxC').json()\n",
    "    ip_address=ip[\"ip\"]\n",
    "    location=ip[\"location\"][\"city\"]\n",
    "    return ip_address, location\n",
    "\n",
    "#Función para conseguir el clima según dirección ip\n",
    "def get_weather_report(city):\n",
    "    res = requests.get(f\"http://api.openweathermap.org/data/2.5/weather?q={city}&lang=es&appid=e3453007916c7512aeb9747917270fe3&units=metric\").json()\n",
    "    weather = res[\"weather\"][0][\"description\"]\n",
    "    temperature = res[\"main\"][\"temp\"]\n",
    "    feels_like = res[\"main\"][\"feels_like\"]\n",
    "    return weather, f\"{temperature}℃\", f\"{feels_like}℃\"\n",
    "\n",
    "ip_address, location=find_my_ip()\n",
    "print(f\"Usted se encuentra en: {location}\")\n",
    "city = requests.get(f\"https://ipapi.co/{ip_address}/city/\").text\n",
    "clima, temperatura, feels_like = get_weather_report(city)\n",
    "print(f\"La temperatura actual es {temperatura}, pero se siente más como {feels_like}\")\n",
    "print(f\"Reporte climático: {clima}.\") \n"
   ]
  }
 ],
 "metadata": {
  "kernelspec": {
   "display_name": "Python 3 (ipykernel)",
   "language": "python",
   "name": "python3"
  },
  "language_info": {
   "codemirror_mode": {
    "name": "ipython",
    "version": 3
   },
   "file_extension": ".py",
   "mimetype": "text/x-python",
   "name": "python",
   "nbconvert_exporter": "python",
   "pygments_lexer": "ipython3",
   "version": "3.9.12"
  }
 },
 "nbformat": 4,
 "nbformat_minor": 5
}
