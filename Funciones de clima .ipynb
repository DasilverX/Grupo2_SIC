{
 "cells": [
  {
   "cell_type": "code",
   "execution_count": 16,
   "id": "c9b75f96",
   "metadata": {},
   "outputs": [
    {
     "name": "stdout",
     "output_type": "stream",
     "text": [
      "Usted se encuentra en: Panama City\n",
      "La temperatura actual es 25.32℃, pero se siente más como 26.02℃\n",
      "EL clima está muy nuboso\n"
     ]
    }
   ],
   "source": [
    "import requests\n",
    "\n",
    "\n",
    "def find_my_ip():\n",
    "    ip_address = requests.get('https://api64.ipify.org?format=json').json()\n",
    "    return ip_address[\"ip\"]\n",
    "\n",
    "#Función para conseguir el clima según dirección ip\n",
    "def get_weather_report(city):\n",
    "    api_key=\"e3453007916c7512aeb9747917270fe3\"\n",
    "    res = requests.get(f\"http://api.openweathermap.org/data/2.5/weather?q={city}&lang=sp&appid={api_key}&units=metric\").json()\n",
    "    weather = res[\"weather\"][0][\"description\"]\n",
    "    temperature = res[\"main\"][\"temp\"]\n",
    "    feels_like = res[\"main\"][\"feels_like\"]\n",
    "    return weather, f\"{temperature}℃\", f\"{feels_like}℃\"\n",
    "\n",
    "ip_address = find_my_ip()\n",
    "city = requests.get(f\"https://ipapi.co/{ip_address}/city/\").text\n",
    "\n",
    "print(f\"Usted se encuentra en: {city}\")\n",
    "clima, temperatura, feels_like = get_weather_report(city)\n",
    "print(f\"La temperatura actual es {temperatura}, pero se siente más como {feels_like}\")\n",
    "print(f\"EL clima está {clima}\") \n"
   ]
  }
 ],
 "metadata": {
  "kernelspec": {
   "display_name": "Python 3 (ipykernel)",
   "language": "python",
   "name": "python3"
  },
  "language_info": {
   "codemirror_mode": {
    "name": "ipython",
    "version": 3
   },
   "file_extension": ".py",
   "mimetype": "text/x-python",
   "name": "python",
   "nbconvert_exporter": "python",
   "pygments_lexer": "ipython3",
   "version": "3.9.12"
  }
 },
 "nbformat": 4,
 "nbformat_minor": 5
}
